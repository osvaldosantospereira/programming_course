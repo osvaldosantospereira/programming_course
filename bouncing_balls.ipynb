{
 "cells": [
  {
   "cell_type": "markdown",
   "id": "dfcd6808",
   "metadata": {
    "ExecuteTime": {
     "end_time": "2025-02-08T16:51:54.114092Z",
     "start_time": "2025-02-08T16:51:54.101096Z"
    }
   },
   "source": [
    "# Introduction\n",
    "\n",
    "This program simulates the motion of two independent bouncing circles inside a confined square boundary using **Pygame**, a popular Python library for game development. The circles move in a two-dimensional plane, reflecting off the boundaries upon collision with the walls. The simulation models elastic collisions with the walls, ensuring conservation of momentum along the respective axes.\n",
    "\n",
    "## Motion Model\n",
    "\n",
    "Each circle is represented by its position vector $\\mathbf{p} = (x, y)$ and velocity vector $\\mathbf{v} = (v_x, v_y)$, which determine its movement at every time step. The position is updated at each frame according to the equation:\n",
    "\n",
    "$$\n",
    "\\mathbf{p}(t + \\Delta t) = \\mathbf{p}(t) + \\mathbf{v} \\cdot \\Delta t\n",
    "$$\n",
    "\n",
    "where $\\Delta t$ is the time step, which corresponds to the frame rate (fixed at 60 FPS in this implementation). Since Pygame updates the screen at a fixed interval, we assume $\\Delta t = 1$ frame per update.\n",
    "\n",
    "## Boundary Conditions and Collisions\n",
    "\n",
    "The square boundary is defined by its width $W$ and height $H$, both set to 600 pixels. Each circle has a fixed radius $R = 20$. When a circle reaches a boundary, its velocity component in the respective direction is inverted, simulating a perfect elastic collision. Mathematically, if a circle’s coordinates satisfy:\n",
    "\n",
    "- **Horizontal collision (left or right wall):**\n",
    "\n",
    "$$\n",
    "x - R < 0 \\quad \\text{or} \\quad x + R > W\n",
    "$$\n",
    "\n",
    "then the velocity in the $x$-direction is inverted:\n",
    "\n",
    "$$\n",
    "v_x \\leftarrow -v_x\n",
    "$$\n",
    "\n",
    "- **Vertical collision (top or bottom wall):**\n",
    "\n",
    "$$\n",
    "y - R < 0 \\quad \\text{or} \\quad y + R > H\n",
    "$$\n",
    "\n",
    "then the velocity in the $y$-direction is inverted:\n",
    "\n",
    "$$\n",
    "v_y \\leftarrow -v_y\n",
    "$$\n",
    "\n",
    "## Implementation Details\n",
    "\n",
    "The program initializes two circles with different initial positions and velocities. These circles continuously move and reflect off the walls without interacting with each other. The main loop updates their positions at a rate of 60 FPS, clears the screen, redraws the circles, and refreshes the display.\n",
    "\n",
    "This simple simulation can serve as a foundation for more complex physics-based animations, including multiple object interactions and collision handling between circles."
   ]
  },
  {
   "cell_type": "code",
   "execution_count": 1,
   "id": "ea8b98fd",
   "metadata": {
    "ExecuteTime": {
     "end_time": "2025-02-08T16:51:34.370581Z",
     "start_time": "2025-02-08T16:51:12.454791Z"
    }
   },
   "outputs": [
    {
     "name": "stdout",
     "output_type": "stream",
     "text": [
      "pygame 2.6.1 (SDL 2.28.4, Python 3.9.13)\n",
      "Hello from the pygame community. https://www.pygame.org/contribute.html\n"
     ]
    },
    {
     "ename": "SystemExit",
     "evalue": "",
     "output_type": "error",
     "traceback": [
      "An exception has occurred, use %tb to see the full traceback.\n",
      "\u001b[1;31mSystemExit\u001b[0m\n"
     ]
    },
    {
     "name": "stderr",
     "output_type": "stream",
     "text": [
      "C:\\Users\\Osvaldo\\anaconda3\\envs\\Oz\\lib\\site-packages\\IPython\\core\\interactiveshell.py:3465: UserWarning: To exit: use 'exit', 'quit', or Ctrl-D.\n",
      "  warn(\"To exit: use 'exit', 'quit', or Ctrl-D.\", stacklevel=1)\n"
     ]
    }
   ],
   "source": [
    "import pygame\n",
    "import sys\n",
    "\n",
    "def main():\n",
    "    # Initialize Pygame\n",
    "    pygame.init()\n",
    "\n",
    "    # Set up the display: a 600x600 pixel window (a square)\n",
    "    WIDTH, HEIGHT = 600, 600\n",
    "    screen = pygame.display.set_mode((WIDTH, HEIGHT))\n",
    "    pygame.display.set_caption(\"Bouncing Circles in a Square\")\n",
    "\n",
    "    # Define colors\n",
    "    WHITE = (255, 255, 255)\n",
    "    BLACK = (0, 0, 0)\n",
    "    RED   = (255, 0, 0)\n",
    "    BLUE  = (0, 0, 255)\n",
    "\n",
    "    # Circle parameters\n",
    "    RADIUS = 20\n",
    "\n",
    "    # Define two circles with initial positions and velocities.\n",
    "    circle1 = {\n",
    "        \"pos\": [100, 100],   # Starting at (100, 100)\n",
    "        \"vel\": [3, 2],       # Velocity: 3 pixels right, 2 pixels down per frame\n",
    "        \"color\": RED\n",
    "    }\n",
    "\n",
    "    circle2 = {\n",
    "        \"pos\": [500, 500],   # Starting at (500, 500)\n",
    "        \"vel\": [-2, -3],     # Velocity: 2 pixels left, 3 pixels up per frame\n",
    "        \"color\": BLUE\n",
    "    }\n",
    "\n",
    "    clock = pygame.time.Clock()  # To manage frame rate\n",
    "\n",
    "    # Main loop: runs until the window is closed.\n",
    "    running = True\n",
    "    while running:\n",
    "        clock.tick(60)  # Limit to 60 frames per second\n",
    "\n",
    "        # Process events (like window closing)\n",
    "        for event in pygame.event.get():\n",
    "            if event.type == pygame.QUIT:\n",
    "                running = False\n",
    "\n",
    "        # Update positions for both circles and check for collisions with the window borders.\n",
    "        for circle in [circle1, circle2]:\n",
    "            # Update circle position\n",
    "            circle[\"pos\"][0] += circle[\"vel\"][0]\n",
    "            circle[\"pos\"][1] += circle[\"vel\"][1]\n",
    "\n",
    "            # Bounce off the left and right edges\n",
    "            if circle[\"pos\"][0] - RADIUS < 0 or circle[\"pos\"][0] + RADIUS > WIDTH:\n",
    "                circle[\"vel\"][0] = -circle[\"vel\"][0]\n",
    "\n",
    "            # Bounce off the top and bottom edges\n",
    "            if circle[\"pos\"][1] - RADIUS < 0 or circle[\"pos\"][1] + RADIUS > HEIGHT:\n",
    "                circle[\"vel\"][1] = -circle[\"vel\"][1]\n",
    "\n",
    "        # Clear the screen by filling it with white\n",
    "        screen.fill(WHITE)\n",
    "\n",
    "        # Optionally, draw a black border around the window (the square)\n",
    "        pygame.draw.rect(screen, BLACK, (0, 0, WIDTH, HEIGHT), 2)\n",
    "\n",
    "        # Draw the two circles\n",
    "        pygame.draw.circle(screen, circle1[\"color\"], (int(circle1[\"pos\"][0]), int(circle1[\"pos\"][1])), RADIUS)\n",
    "        pygame.draw.circle(screen, circle2[\"color\"], (int(circle2[\"pos\"][0]), int(circle2[\"pos\"][1])), RADIUS)\n",
    "\n",
    "        # Update the display\n",
    "        pygame.display.flip()\n",
    "\n",
    "    # Clean up and close the application\n",
    "    pygame.quit()\n",
    "    sys.exit()\n",
    "\n",
    "if __name__ == \"__main__\":\n",
    "    main()\n"
   ]
  },
  {
   "cell_type": "code",
   "execution_count": null,
   "id": "8c0de39e",
   "metadata": {},
   "outputs": [],
   "source": []
  }
 ],
 "metadata": {
  "hide_input": false,
  "kernelspec": {
   "display_name": "Python 3 (ipykernel)",
   "language": "python",
   "name": "python3"
  },
  "language_info": {
   "codemirror_mode": {
    "name": "ipython",
    "version": 3
   },
   "file_extension": ".py",
   "mimetype": "text/x-python",
   "name": "python",
   "nbconvert_exporter": "python",
   "pygments_lexer": "ipython3",
   "version": "3.9.13"
  },
  "toc": {
   "base_numbering": 1,
   "nav_menu": {},
   "number_sections": true,
   "sideBar": true,
   "skip_h1_title": false,
   "title_cell": "Table of Contents",
   "title_sidebar": "Contents",
   "toc_cell": false,
   "toc_position": {},
   "toc_section_display": true,
   "toc_window_display": false
  },
  "varInspector": {
   "cols": {
    "lenName": 16,
    "lenType": 16,
    "lenVar": 40
   },
   "kernels_config": {
    "python": {
     "delete_cmd_postfix": "",
     "delete_cmd_prefix": "del ",
     "library": "var_list.py",
     "varRefreshCmd": "print(var_dic_list())"
    },
    "r": {
     "delete_cmd_postfix": ") ",
     "delete_cmd_prefix": "rm(",
     "library": "var_list.r",
     "varRefreshCmd": "cat(var_dic_list()) "
    }
   },
   "types_to_exclude": [
    "module",
    "function",
    "builtin_function_or_method",
    "instance",
    "_Feature"
   ],
   "window_display": false
  }
 },
 "nbformat": 4,
 "nbformat_minor": 5
}
